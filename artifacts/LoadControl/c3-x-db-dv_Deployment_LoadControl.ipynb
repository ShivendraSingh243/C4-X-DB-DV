{
 "cells": [
  {
   "cell_type": "code",
   "execution_count": null,
   "id": "9Ho8539G",
   "metadata": {},
   "outputs": [],
   "source" : [
    "# Setup logging table\n",
    "spark.sql(\"\"\"DROP TABLE IF EXISTS `{loadcontrol#loadcontrol#database_name}`.`{loadcontrol#loadcontrol#schema_name}`.`{loadcontrol#loadcontrol#log_table_name}`\"\"\")\n",
    "\n",
    "spark.sql(\"\"\"CREATE TABLE IF NOT EXISTS `{loadcontrol#loadcontrol#database_name}`.`{loadcontrol#loadcontrol#schema_name}`.`{loadcontrol#loadcontrol#log_table_name}` (\n",
    "    `log_timestamp` Timestamp COMMENT 'The date and time when the log message was written',\n",
    "    `log_level` String COMMENT 'The log level assigned to the log entry',\n",
    "    `execution_unit` String COMMENT 'The unit executing the operation',\n",
    "    `project_name` String COMMENT 'The project name of the load operation',\n",
    "    `application_name` String COMMENT 'The application executing the load operation',\n",
    "    `application_environment_name` String COMMENT 'The applications environment name',\n",
    "    `load_timestamp` timestamp COMMENT 'The load timestamp used for the load',\n",
    "    `statement_name` String COMMENT 'The statement name of load operation helps to identify the sql statement in the code',\n",
    "    `task_name` String COMMENT 'The loader name',\n",
    "    `target_object_database_name` String COMMENT 'The target objects database name where the data was written into',\n",
    "    `target_object_schema_name` String COMMENT 'The target objects schema name where the data was written into',\n",
    "    `target_object_name` String COMMENT 'The target object where the data was written into',\n",
    "    `message` String COMMENT 'The log message'\n",
    ")\n",
    "USING delta\n",
    "\"\"\")\n",
    "\n",
    "\n"
   ]
  } ],
 "metadata": {
  "kernelspec": {
   "display_name" : "Python 3 (ipykernel)",
   "language" : "python",
   "name" : "python3"
  },
  "language_info" : {
   "codemirror_mode" : {
    "name" : "ipython",
    "version" : 3
   },
   "file_extension" : ".py",
   "mimetype" : "text/x-python",
   "name" : "python",
   "nbconvert_exporter" : "python",
   "pygments_lexer" : "ipython3",
   "version" : "3.10.9"
  }
 },
 "nbformat" : 4,
 "nbformat_minor" : 5
}
