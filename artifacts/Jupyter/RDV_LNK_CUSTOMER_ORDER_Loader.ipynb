{
 "cells": [
  {
   "cell_type": "code",
   "execution_count": null,
   "id": "fVgqgwl3",
   "metadata": {},
   "outputs": [],
   "source" : [
    "# Setup input parameters\n",
    "from datetime import datetime as dt\n",
    "dbutils.widgets.text('bg_loadtimestamp', '')\n",
    "bg_loadtimestamp = dbutils.widgets.get('bg_loadtimestamp')\n",
    "bg_loadtimestamp_dt = dt.strptime(bg_loadtimestamp, '%Y-%m-%d %H:%M:%S.%f')\n",
    "if not bg_loadtimestamp:\n",
    "    bg_loadtimestamp = 'CAST(NULL AS Timestamp)'\n",
    "else:\n",
    "    bg_loadtimestamp = f\"CAST('{bg_loadtimestamp}' AS Timestamp)\"\n",
    "\n",
    "\n"
   ]
  },
  {
   "cell_type": "code",
   "execution_count": null,
   "id": "9XYkxRwG",
   "metadata": {},
   "outputs": [],
   "source" : [
    "# Setup logging\n",
    "def info(statement_name, target_object_database_name, target_object_schema_name, target_object_name, message):\n",
    "    log_message('INFO', statement_name, target_object_database_name, target_object_schema_name, target_object_name, message)\n",
    "\n",
    "def error(statement_name, target_object_database_name, target_object_schema_name, target_object_name, message):\n",
    "    log_message('ERROR',statement_name, target_object_database_name, target_object_schema_name, target_object_name, message)\n",
    "\n",
    "def log_message(log_level, statement_name, target_object_database_name, target_object_schema_name, target_object_name, message):\n",
    "    log_df = spark.createDataFrame([(dt.now(), log_level, 'loader', 'C3-X-DB-DV', '{loadcontrol#loadcontrol#application_name}', '{loadcontrol#loadcontrol#application_environment_name}', bg_loadtimestamp_dt, statement_name, 'RDV_LNK_CUSTOMER_ORDER_Loader', target_object_database_name, target_object_schema_name, target_object_name,  message)], ['log_timestamp', 'log_level', 'execution_unit', 'project_name', 'application_name', 'application_environment_name', 'load_timestamp', 'statement_name', 'task_name', 'target_object_database_name', 'target_object_schema_name', 'target_object_name', 'message'])\n",
    "    log_df.write.format('delta').mode('append').saveAsTable('`{loadcontrol#loadcontrol#database_name}`.`{loadcontrol#loadcontrol#schema_name}`.`{loadcontrol#loadcontrol#log_table_name}`')\n",
    "    print(f\"{dt.now().strftime('%Y/%m/%d, %H:%M:%S')} - {target_object_name}: {message}\")\n",
    "\n",
    "\n"
   ]
  },
  {
   "cell_type": "code",
   "execution_count": null,
   "id": "Ag4QzSuq",
   "metadata": {},
   "outputs": [],
   "source" : [
    "# LinkLoader: CUSTOMER_ORDER_Link Loader_1\n",
    "\n",
    "try:\n",
    "\n",
    "    operation_metrics_collection = {}\n",
    "    result_df = spark.sql(f\"\"\"\n",
    "    INSERT\n",
    "    INTO `{c3-x-db-dv#rawvault#database_name}`.`{c3-x-db-dv#rawvault#schema_name}`.`rdv_lnk_customer_order` (\n",
    "         `bg_loadtimestamp`\n",
    "        ,`link_hk`\n",
    "        ,`bg_sourcesystem`\n",
    "        ,`fk_customer_accountnumber`\n",
    "        ,`customer_customer_hk`\n",
    "        ,`fk_order_salesorderid`\n",
    "        ,`order_order_hk`\n",
    "    )\n",
    "    SELECT\n",
    "         {bg_loadtimestamp} AS `bg_loadtimestamp`\n",
    "        ,`bg_source`.`link_hk` AS `link_hk`\n",
    "        ,`bg_source`.`bg_sourcesystem` AS `bg_sourcesystem`\n",
    "        ,`bg_source`.`fk_customer_accountnumber` AS `fk_customer_accountnumber`\n",
    "        ,`bg_source`.`customer_customer_hk` AS `customer_customer_hk`\n",
    "        ,`bg_source`.`fk_order_salesorderid` AS `fk_order_salesorderid`\n",
    "        ,`bg_source`.`order_order_hk` AS `order_order_hk`\n",
    "    FROM `{c3-x-db-dv#rawvault#database_name}`.`{c3-x-db-dv#rawvault#schema_name}`.`rdv_lnk_customer_order_delta` AS `bg_source`\n",
    "    \"\"\")\n",
    "    RowCountInserted = result_df.select(\"num_inserted_rows\").collect()[0][0]\n",
    "    pandas_df = result_df.toPandas()\n",
    "    operation_metrics = pandas_df.to_dict(orient='records')\n",
    "    operation_metrics_collection['inserttarget_{c3-x-db-dv#rawvault#database_name}_{c3-x-db-dv#rawvault#schema_name}_rdv_lnk_customer_order'] = operation_metrics\n",
    "    info('InsertTarget', '{c3-x-db-dv#rawvault#database_name}', '{c3-x-db-dv#rawvault#schema_name}', 'RDV_LNK_CUSTOMER_ORDER', str(operation_metrics))\n",
    "\n",
    "except Exception as e:\n",
    "    error('', '', '', '', str(e))\n",
    "    raise\n",
    "\n"
   ]
  },
  {
   "cell_type": "code",
   "execution_count": null,
   "id": "jypUUVd9",
   "metadata": {},
   "outputs": [],
   "source" : [
    "dbutils.notebook.exit(operation_metrics_collection)\n"
   ]
  } ],
 "metadata": {
  "kernelspec": {
   "display_name" : "Python 3 (ipykernel)",
   "language" : "python",
   "name" : "python3"
  },
  "language_info" : {
   "codemirror_mode" : {
    "name" : "ipython",
    "version" : 3
   },
   "file_extension" : ".py",
   "mimetype" : "text/x-python",
   "name" : "python",
   "nbconvert_exporter" : "python",
   "pygments_lexer" : "ipython3",
   "version" : "3.10.9"
  }
 },
 "nbformat" : 4,
 "nbformat_minor" : 5
}
